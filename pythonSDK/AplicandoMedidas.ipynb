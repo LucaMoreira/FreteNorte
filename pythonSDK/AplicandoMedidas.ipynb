{
 "cells": [
  {
   "cell_type": "code",
   "execution_count": 1,
   "metadata": {},
   "outputs": [],
   "source": [
    "import firebase_admin\n",
    "from firebase_admin import credentials\n",
    "from firebase_admin import firestore, auth\n",
    "from firebase_admin.firestore import FieldFilter\n",
    "from datetime import datetime\n",
    "import json \n",
    "from dotenv import load_dotenv\n",
    "from random import randint\n",
    "import os\n",
    "import re\n",
    "from unidecode import unidecode\n",
    "\n",
    "load_dotenv()\n",
    "\n",
    "cred = credentials.Certificate(os.getenv(\"firebase_secret\"))\n",
    "app = firebase_admin.initialize_app(cred)\n",
    "db = firestore.client()"
   ]
  },
  {
   "cell_type": "code",
   "execution_count": 4,
   "metadata": {},
   "outputs": [],
   "source": [
    "with open('json0929/permanentes.json') as f:\n",
    "    data = json.load(f)"
   ]
  },
  {
   "cell_type": "code",
   "execution_count": 11,
   "metadata": {},
   "outputs": [],
   "source": [
    "def filter_list_of_dicts(list_of_dicts, property_name, property_value):\n",
    "    \"\"\"\n",
    "    This function filters a list of dictionaries by a given property name and value using the filter() function.\n",
    "    :param list_of_dicts: list of dictionaries to be filtered\n",
    "    :param property_name: name of the property to filter by\n",
    "    :param property_value: value of the property to filter by\n",
    "    :return: a list of dictionaries that match the filter criteria\n",
    "    \"\"\"\n",
    "    return filter(lambda d: d.get(property_name) == property_value, list_of_dicts)\n"
   ]
  },
  {
   "cell_type": "code",
   "execution_count": 22,
   "metadata": {},
   "outputs": [],
   "source": [
    "def get_item_by_key(key: int) -> dict:\n",
    "    \"\"\"\n",
    "    This function returns a dictionary item from a list of dictionaries based on a given key.\n",
    "    :param key: key to filter by\n",
    "    :return: a dictionary item that matches the key\n",
    "    \"\"\"\n",
    "    return next(filter_list_of_dicts(data, 'key', key), None)"
   ]
  },
  {
   "cell_type": "code",
   "execution_count": 30,
   "metadata": {},
   "outputs": [
    {
     "data": {
      "text/plain": [
       "{'patrimonio': 543858,\n",
       " 'n_controle': None,\n",
       " 'cod_barras': 337921,\n",
       " 'n_serie': None,\n",
       " 'descricao': 'CADEIRA ESCOLAR UNIVERSITÁRIA - CADEIRA ESCOLAR COM PRANCHETA FIXA EM MDF, ASSENTO E ENCOSTO EM COMPENSADO E ESPUMA, REVESTIDO NA COR AZUL ROYAL. ESTRUTURA CONFECCIONADA EM TUBO DE AÇO PINTADO EM PRETO.',\n",
       " 'conservacao': 'EM USO',\n",
       " 'incorporacao': '12/02/2018',\n",
       " 'transf_local': None,\n",
       " 'valor': 140,\n",
       " 'situacao': 'Ativo',\n",
       " 'peso': '',\n",
       " 'medidas': ''}"
      ]
     },
     "execution_count": 30,
     "metadata": {},
     "output_type": "execute_result"
    }
   ],
   "source": [
    "cadeira = get_item_by_key(337921)\n",
    "cadeira['detalhes']"
   ]
  },
  {
   "cell_type": "markdown",
   "metadata": {},
   "source": [
    "# Cadeiras"
   ]
  },
  {
   "cell_type": "markdown",
   "metadata": {},
   "source": [
    "## Escolar"
   ]
  },
  {
   "cell_type": "code",
   "execution_count": 32,
   "metadata": {},
   "outputs": [],
   "source": [
    "def batch_write_update_medidas(collection_name: str, id_list: list, medidas: str):\n",
    "    batch = db.batch() \n",
    "    collection_ref = db.collection(collection_name)\n",
    "    k = 1\n",
    "    for i in range(0, len(id_list), 500):\n",
    "        chunk = id_list[i:i+500]\n",
    "        for idx in chunk: \n",
    "            doc_ref = collection_ref.document(str(idx))\n",
    "            batch.update(doc_ref, {'detalhes.medidas': medidas})\n",
    "        print(f\"{collection_name}: chunk {k} ({len(chunk)} documents)\")\n",
    "        k += 1\n",
    "        batch.commit()"
   ]
  },
  {
   "cell_type": "code",
   "execution_count": 36,
   "metadata": {},
   "outputs": [],
   "source": [
    "cadeiras_escolar_ids = [ x['key'] for x in  filter_list_of_dicts(data, 'short_descricao', \"CADEIRA ESCOLAR UNIVERSITÁRIA\") ]\n",
    "    "
   ]
  },
  {
   "cell_type": "code",
   "execution_count": 37,
   "metadata": {},
   "outputs": [
    {
     "name": "stdout",
     "output_type": "stream",
     "text": [
      "items: chunk 1 (500 documents)\n",
      "items: chunk 2 (474 documents)\n"
     ]
    }
   ],
   "source": [
    "batch_write_update_medidas(\"items\", cadeiras_escolar_ids, '95 x 80 x 56 (AxCxL)')"
   ]
  },
  {
   "cell_type": "markdown",
   "metadata": {},
   "source": [
    "## Cadeira com braços"
   ]
  },
  {
   "cell_type": "code",
   "execution_count": 39,
   "metadata": {},
   "outputs": [
    {
     "data": {
      "text/plain": [
       "'CADEIRA ESCRITÓRIO FIXA COM BRAÇO'"
      ]
     },
     "execution_count": 39,
     "metadata": {},
     "output_type": "execute_result"
    }
   ],
   "source": [
    "get_item_by_key(310264)[\"short_descricao\"]\n",
    "# 'CADEIRA ESCRITÓRIO FIXA COM BRAÇO'"
   ]
  },
  {
   "cell_type": "code",
   "execution_count": 42,
   "metadata": {},
   "outputs": [],
   "source": [
    "cadeiras_com_braço_ids = [ x['key'] for x in  filter_list_of_dicts(data, 'short_descricao', get_item_by_key(310264)[\"short_descricao\"])]\n"
   ]
  },
  {
   "cell_type": "code",
   "execution_count": 46,
   "metadata": {},
   "outputs": [
    {
     "name": "stdout",
     "output_type": "stream",
     "text": [
      "items: chunk 1 (98 documents)\n"
     ]
    }
   ],
   "source": [
    "batch_write_update_medidas(\"items\", cadeiras_com_braço_ids, '96 x 59 x 63 (AxCxL)')"
   ]
  },
  {
   "cell_type": "markdown",
   "metadata": {},
   "source": [
    "## Cadeira sem braços"
   ]
  },
  {
   "cell_type": "code",
   "execution_count": 47,
   "metadata": {},
   "outputs": [
    {
     "data": {
      "text/plain": [
       "'CADEIRA DE DIÁLOGO FIXA SEM BRAÇOS'"
      ]
     },
     "execution_count": 47,
     "metadata": {},
     "output_type": "execute_result"
    }
   ],
   "source": [
    "get_item_by_key(347857)[\"short_descricao\"]\n"
   ]
  },
  {
   "cell_type": "code",
   "execution_count": 48,
   "metadata": {},
   "outputs": [],
   "source": [
    "cadeiras_sem_braço_ids = [ x['key'] for x in  filter_list_of_dicts(data, 'short_descricao', get_item_by_key(347857)[\"short_descricao\"])]\n"
   ]
  },
  {
   "cell_type": "code",
   "execution_count": 50,
   "metadata": {},
   "outputs": [
    {
     "data": {
      "text/plain": [
       "232"
      ]
     },
     "execution_count": 50,
     "metadata": {},
     "output_type": "execute_result"
    }
   ],
   "source": [
    "len(cadeiras_sem_braço_ids)"
   ]
  },
  {
   "cell_type": "code",
   "execution_count": 51,
   "metadata": {},
   "outputs": [
    {
     "data": {
      "text/plain": [
       "{'CADEIRA DE DIÁLOGO FIXA SEM BRAÇOS - ESTOFADA, EMPILHÁVEL, SEM BRAÇOS, MONTADA SOBRE ARMAÇÃO TUBULAR DE AÇO, DE COR PRETA, ASSENTO 460MM X 460 MM, ENCOSTO 400MM,TECIDO DE CREPE 100% POLIESTER, ESTRUTURA CONFECCIONADA EM AÇO CARBONO, TINTURA COM TRATAMENTO ANTIFERRUGEM.',\n",
       " 'CADEIRA DE DIÁLOGO FIXA SEM BRAÇOS - ESTOFADA, EMPILHÁVEL, SEM BRAÇOS, MONTADA SOBRE ARMAÇÃO TUBULAR DE AÇO, DE COR PRETA, ASSENTO 460MM X 460 MM, ENCOSTO 400MM,TECIDO DE CREPE 100% POLIESTER, ESTRUTURA CONFECCIONADA EM AÇO CARBONO, TINTURA COM TRATAMENTO ANTIFERRUGEM. ',\n",
       " 'CADEIRA DE DIÁLOGO FIXA SEM BRAÇOS - MARCA: FLEXFORM; MODELO: DOTY/CL.DOTY.C.EF. ESTOFADA, EMPILHÁVEL, SEM BRAÇOS, MONTADA SOBRE ARMAÇÃO TUBULAR DE AÇO, DE COR PRETA, ASSENTO 460MM X 460 MM, ENCOSTO 400MM, TECIDO DE CREPE 100% POLIESTER, ESTRUTURA CONFECCIONADA EM AÇO CARBONO, TINTURA COM TRATAMENTO ANTIFERRUGEM.'}"
      ]
     },
     "execution_count": 51,
     "metadata": {},
     "output_type": "execute_result"
    }
   ],
   "source": [
    "set([ x['detalhes']['descricao'] for x in  filter_list_of_dicts(data, 'short_descricao', get_item_by_key(347857)[\"short_descricao\"])])"
   ]
  },
  {
   "cell_type": "code",
   "execution_count": 52,
   "metadata": {},
   "outputs": [
    {
     "name": "stdout",
     "output_type": "stream",
     "text": [
      "items: chunk 1 (232 documents)\n"
     ]
    }
   ],
   "source": [
    "batch_write_update_medidas(\"items\", cadeiras_sem_braço_ids, '79 x 55 x 51 (AxCxL)')"
   ]
  },
  {
   "cell_type": "markdown",
   "metadata": {},
   "source": [
    "## Mesa reta 4 pés"
   ]
  },
  {
   "cell_type": "code",
   "execution_count": 53,
   "metadata": {},
   "outputs": [
    {
     "data": {
      "text/plain": [
       "'MESA RETA 4 PÉS, 800(L)X600(P)X740(A)MM '"
      ]
     },
     "execution_count": 53,
     "metadata": {},
     "output_type": "execute_result"
    }
   ],
   "source": [
    "get_item_by_key(363625)[\"short_descricao\"]"
   ]
  },
  {
   "cell_type": "code",
   "execution_count": 67,
   "metadata": {},
   "outputs": [],
   "source": [
    "mesa_reta_4 = filter_list_of_dicts(data, 'short_descricao', get_item_by_key(363625)[\"short_descricao\"])"
   ]
  },
  {
   "cell_type": "code",
   "execution_count": 60,
   "metadata": {},
   "outputs": [
    {
     "data": {
      "text/plain": [
       "{'MESA RETA 4 PÉS, 800(L)X600(P)X740(A)MM  - MARCA: TECNO2000, MODELO: BREMEN. MESA RETANGULAR, EM MADEIRA MDP REVESTIDA NA COR CINZA CLARO, ESTRUTURA EM AÇO COM PINTURA EPÓXI-PÓ NA COR ALUMÍNIO NATURAL. DIMENSÕES: 80X 60 X 74 CM.',\n",
       " 'MESA RETA 4 PÉS, 800(L)X600(P)X740(A)MM  - MARCA: TECNO2000; MODELO: BREMEN. MESA RETANGULAR, EM MADEIRA MDP REVESTIDA NA COR CINZA CLARO, ESTRUTURA EM AÇO COM PINTURA EPÓXI-PÓ NA COR ALUMÍNIO NATURAL. DIMENSÕES: 80X 60 X 74 CM.',\n",
       " 'MESA RETA 4 PÉS, 800(L)X600(P)X740(A)MM  - MESA RETANGULAR, EM MADEIRA MDP REVESTIDA NA COR CINZA CRISTAL, ESTRUTURA EM AÇO COM PINTURA EPÓXI-PÓ NA COR ALUMÍNIO NATURAL. DIMENSÕES: 80X 60 X 74 CM.',\n",
       " 'MESA RETA 4 PÉS, 800(L)X600(P)X740(A)MM  - MESA RETANGULAR, EM MADEIRA MDP REVESTIDA NA COR OVO, ESTRUTURA EM AÇO COM PINTURA EPÓXI-PÓ NA COR ALUMÍNIO NATURAL. DIMENSÕES: 80X 60 X 74 CM.'}"
      ]
     },
     "execution_count": 60,
     "metadata": {},
     "output_type": "execute_result"
    }
   ],
   "source": [
    "set([ x['detalhes']['descricao'] for x in  mesa_reta_4])"
   ]
  },
  {
   "cell_type": "code",
   "execution_count": 68,
   "metadata": {},
   "outputs": [],
   "source": [
    "mesa_reta_4_ids = [ x['key'] for x in  mesa_reta_4]"
   ]
  },
  {
   "cell_type": "code",
   "execution_count": 70,
   "metadata": {},
   "outputs": [
    {
     "name": "stdout",
     "output_type": "stream",
     "text": [
      "items: chunk 1 (88 documents)\n"
     ]
    }
   ],
   "source": [
    "batch_write_update_medidas(\"items\", mesa_reta_4_ids, '75 x 60 x 80 (AxCxL)')"
   ]
  }
 ],
 "metadata": {
  "kernelspec": {
   "display_name": "pythonSDK-zBAoyeeM",
   "language": "python",
   "name": "python3"
  },
  "language_info": {
   "codemirror_mode": {
    "name": "ipython",
    "version": 3
   },
   "file_extension": ".py",
   "mimetype": "text/x-python",
   "name": "python",
   "nbconvert_exporter": "python",
   "pygments_lexer": "ipython3",
   "version": "3.10.8"
  }
 },
 "nbformat": 4,
 "nbformat_minor": 2
}
