{
 "cells": [
  {
   "cell_type": "code",
   "execution_count": 1,
   "metadata": {},
   "outputs": [],
   "source": [
    "import firebase_admin\n",
    "from firebase_admin import credentials\n",
    "from firebase_admin import firestore, auth\n",
    "from firebase_admin.firestore import FieldFilter\n",
    "from datetime import datetime\n",
    "import json \n",
    "from dotenv import load_dotenv\n",
    "from random import randint\n",
    "import os\n",
    "import re\n",
    "class bcolors:\n",
    "    HEADER = '\\033[95m'\n",
    "    OKBLUE = '\\033[94m'\n",
    "    OKCYAN = '\\033[96m'\n",
    "    OKGREEN = '\\033[92m'\n",
    "    WARNING = '\\033[93m'\n",
    "    FAIL = '\\033[91m'\n",
    "    ENDC = '\\033[0m'\n",
    "    BOLD = '\\033[1m'\n",
    "    UNDERLINE = '\\033[4m'\n",
    "\n",
    "load_dotenv()\n",
    "\n",
    "cred = credentials.Certificate(os.getenv(\"firebase_secret\"))\n",
    "app = firebase_admin.initialize_app(cred)\n",
    "\n",
    "\n",
    "db = firestore.client()\n",
    "\n",
    "\n",
    "def load_json_file(filename):\n",
    "    with open(filename) as fp:\n",
    "        content = json.load(fp)\n",
    "    return content\n"
   ]
  },
  {
   "cell_type": "code",
   "execution_count": 14,
   "metadata": {},
   "outputs": [],
   "source": [
    "maquinas_descricoes = [\"MÁQUINA DE COSTURA INDUSTRIAL \", \"MÁQUINA DE COSTURA INDUSTRIAL\",\"MAQUINA DE COSTURA\"]"
   ]
  },
  {
   "cell_type": "code",
   "execution_count": 19,
   "metadata": {},
   "outputs": [],
   "source": [
    "volumes = []\n",
    "\n",
    "for desc in maquinas_descricoes:\n",
    "    maquinas = db.collection(\"items\").where(filter=FieldFilter(\"short_descricao\", \"==\", desc)).stream()\n",
    "    for maquina in maquinas:\n",
    "        dict_maquina = maquina.to_dict()\n",
    "        \n",
    "        volume_ref = dict_maquina[\"meta\"][\"volume\"]\n",
    "        volume = volume_ref.update({'categoria': \"Transportes Especiais\"}) "
   ]
  },
  {
   "cell_type": "code",
   "execution_count": 18,
   "metadata": {},
   "outputs": [
    {
     "name": "stdout",
     "output_type": "stream",
     "text": [
      "Maquinário\n",
      "Maquinário\n",
      "Maquinário\n",
      "Maquinário\n",
      "Maquinário\n",
      "Maquinário\n",
      "Maquinário\n",
      "Maquinário\n",
      "Maquinário\n",
      "Maquinário\n",
      "Maquinário\n",
      "Maquinário\n",
      "Maquinário\n",
      "Transportes Especiais\n",
      "Maquinário\n",
      "Transportes Especiais\n",
      "Transportes Especiais\n",
      "Transportes Especiais\n",
      "Transportes Especiais\n",
      "Transportes Especiais\n",
      "Transportes Especiais\n",
      "Transportes Especiais\n",
      "Transportes Especiais\n",
      "Transportes Especiais\n",
      "Transportes Especiais\n",
      "Transportes Especiais\n",
      "Transportes Especiais\n",
      "Transportes Especiais\n",
      "Transportes Especiais\n",
      "Transportes Especiais\n",
      "Transportes Especiais\n",
      "Transportes Especiais\n",
      "Transportes Especiais\n",
      "Transportes Especiais\n",
      "Maquinário\n",
      "Maquinário\n",
      "Maquinário\n",
      "Maquinário\n",
      "Maquinário\n",
      "Maquinário\n",
      "Maquinário\n"
     ]
    }
   ],
   "source": [
    "for volume in volumes:\n",
    "    print(volume[\"categoria\"])"
   ]
  },
  {
   "cell_type": "code",
   "execution_count": null,
   "metadata": {},
   "outputs": [],
   "source": []
  }
 ],
 "metadata": {
  "kernelspec": {
   "display_name": "pythonSDK-zBAoyeeM",
   "language": "python",
   "name": "python3"
  },
  "language_info": {
   "codemirror_mode": {
    "name": "ipython",
    "version": 3
   },
   "file_extension": ".py",
   "mimetype": "text/x-python",
   "name": "python",
   "nbconvert_exporter": "python",
   "pygments_lexer": "ipython3",
   "version": "3.10.8"
  }
 },
 "nbformat": 4,
 "nbformat_minor": 2
}
